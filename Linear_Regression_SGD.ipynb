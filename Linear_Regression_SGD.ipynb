{
  "nbformat": 4,
  "nbformat_minor": 0,
  "metadata": {
    "colab": {
      "provenance": []
    },
    "kernelspec": {
      "name": "python3",
      "display_name": "Python 3"
    },
    "language_info": {
      "name": "python"
    }
  },
  "cells": [
    {
      "cell_type": "code",
      "source": [
        "import random as rd\n",
        "import numpy as np\n",
        "from sklearn.datasets import fetch_california_housing\n",
        "from sklearn.preprocessing import StandardScaler\n",
        "from sklearn.model_selection import train_test_split\n",
        "from sklearn.metrics import mean_squared_error\n",
        "data = fetch_california_housing()\n",
        "X, y = data.data, data.target"
      ],
      "metadata": {
        "id": "6iWui03ZZh7k"
      },
      "execution_count": null,
      "outputs": []
    },
    {
      "cell_type": "code",
      "source": [
        "X, y = data.data, data.target\n",
        "# print(data.data[0])\n",
        "scaler = StandardScaler()\n",
        "X[:, 1:] = scaler.fit_transform(X[:, 1:]) # blows up to infinity or NaN with out this function, which sets mean to 0 and stand deviation to 1, to normalise the data without using max values (potential anoomalies) to normalise range between -1 and 1\n",
        "# print(X[1])"
      ],
      "metadata": {
        "id": "JH0RzxR8arRK"
      },
      "execution_count": null,
      "outputs": []
    },
    {
      "cell_type": "code",
      "source": [
        "X = np.c_[np.ones(X.shape[0]), X]\n",
        "X_train, X_test, y_train, y_test = train_test_split(X, y, test_size=0.2, random_state=42)"
      ],
      "metadata": {
        "id": "lVUKKRjGar0Q"
      },
      "execution_count": null,
      "outputs": []
    },
    {
      "cell_type": "code",
      "source": [
        "# print(X[rd.randint(0,len(y_train))])\n",
        "# print(np.random.un iform(low=-1, high=1, size=(X_train.shape[1], 1)).transpose().shape,X[rd.randint(0,len(y_train))].reshape(-1,1).shape)"
      ],
      "metadata": {
        "id": "RI9Oi-BWat1J"
      },
      "execution_count": null,
      "outputs": []
    },
    {
      "cell_type": "code",
      "source": [
        "learning_rate=0.00015\n",
        "epochs =100000\n",
        "m = len(y)"
      ],
      "metadata": {
        "id": "BCnvUt8tbcMw"
      },
      "execution_count": null,
      "outputs": []
    },
    {
      "cell_type": "code",
      "execution_count": null,
      "metadata": {
        "id": "FgbUc2ZNWrp1"
      },
      "outputs": [],
      "source": [
        "class linearRegression:\n",
        "  def __init__(self, x):\n",
        "    self.theta = np.random.uniform(low=-1, high=1, size=(x.shape[1], 1))\n",
        "\n",
        "  def hypothesis(self,Xi):\n",
        "    return self.theta.transpose() @ Xi.reshape(-1,1)\n",
        "  def predict(self,X):\n",
        "    return X @ self.theta\n",
        "  def evaluate(self,x, y):\n",
        "    predictions = self.predict(x)\n",
        "    mse = mean_squared_error(y, predictions)\n",
        "    print(f\"Mean Squared Error: {mse}\")\n",
        "  def step(self, alpha, Xi, yi):\n",
        "    predictions = self.hypothesis(Xi)\n",
        "    error = yi - predictions\n",
        "    # print(error.shape, Xi.shape)\n",
        "    gradient = error * Xi\n",
        "    # print(gradient.shape,self.theta.shape,self.theta)\n",
        "    self.theta += alpha * gradient.transpose()\n",
        "    return (error**2)/2\n",
        "\n",
        "  def train(self, X, y, lr, epochs):\n",
        "    for epoch in range(epochs):\n",
        "      index = rd.randint(0,len(y)-1)\n",
        "      self.step(lr, X[index], y[index])\n",
        "      if (epoch+1) % (epochs/20) == 0:\n",
        "        print('epoch:',epoch+1)\n",
        "        print(self.step(lr, X[index], y[index]))\n",
        "        self.evaluate(X_test, y_test)\n",
        "linReg = linearRegression(X_train)"
      ]
    },
    {
      "cell_type": "code",
      "source": [
        "linReg.train(X_train, y_train, learning_rate, epochs)"
      ],
      "metadata": {
        "colab": {
          "base_uri": "https://localhost:8080/"
        },
        "id": "KrONW_8dbLKf",
        "outputId": "690beeeb-d21b-492b-d3a3-77ba925fedf1"
      },
      "execution_count": null,
      "outputs": [
        {
          "output_type": "stream",
          "name": "stdout",
          "text": [
            "epoch: 5000\n",
            "[[0.84622677]]\n",
            "Mean Squared Error: 1.0151449905767196\n",
            "epoch: 10000\n",
            "[[0.14614767]]\n",
            "Mean Squared Error: 0.9082741863578979\n",
            "epoch: 15000\n",
            "[[0.13543289]]\n",
            "Mean Squared Error: 0.8544278354810597\n",
            "epoch: 20000\n",
            "[[0.3070175]]\n",
            "Mean Squared Error: 0.8201335333006343\n",
            "epoch: 25000\n",
            "[[0.09377186]]\n",
            "Mean Squared Error: 0.7952153816069372\n",
            "epoch: 30000\n",
            "[[0.16464153]]\n",
            "Mean Squared Error: 0.7659989342801552\n",
            "epoch: 35000\n",
            "[[0.00898214]]\n",
            "Mean Squared Error: 0.7383322803805497\n",
            "epoch: 40000\n",
            "[[0.13769063]]\n",
            "Mean Squared Error: 0.7133595513010061\n",
            "epoch: 45000\n",
            "[[0.33817042]]\n",
            "Mean Squared Error: 0.6947391764315347\n",
            "epoch: 50000\n",
            "[[0.06447967]]\n",
            "Mean Squared Error: 0.6749362997681807\n",
            "epoch: 55000\n",
            "[[0.00510878]]\n",
            "Mean Squared Error: 0.6631407163801099\n",
            "epoch: 60000\n",
            "[[0.08293247]]\n",
            "Mean Squared Error: 0.6458630885503793\n",
            "epoch: 65000\n",
            "[[0.00677635]]\n",
            "Mean Squared Error: 0.6334084389815813\n",
            "epoch: 70000\n",
            "[[0.05770823]]\n",
            "Mean Squared Error: 0.6224965329538165\n",
            "epoch: 75000\n",
            "[[0.00833805]]\n",
            "Mean Squared Error: 0.6121985772754696\n",
            "epoch: 80000\n",
            "[[0.17320753]]\n",
            "Mean Squared Error: 0.6082616216040757\n",
            "epoch: 85000\n",
            "[[0.07413767]]\n",
            "Mean Squared Error: 0.5970225553693473\n",
            "epoch: 90000\n",
            "[[0.0880882]]\n",
            "Mean Squared Error: 0.5906704499676951\n",
            "epoch: 95000\n",
            "[[0.43262796]]\n",
            "Mean Squared Error: 0.5843426727981109\n",
            "epoch: 100000\n",
            "[[0.08371685]]\n",
            "Mean Squared Error: 0.5800336178952973\n"
          ]
        }
      ]
    }
  ]
}