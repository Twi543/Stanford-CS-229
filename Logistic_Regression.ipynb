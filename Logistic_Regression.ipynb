{
  "nbformat": 4,
  "nbformat_minor": 0,
  "metadata": {
    "colab": {
      "provenance": []
    },
    "kernelspec": {
      "name": "python3",
      "display_name": "Python 3"
    },
    "language_info": {
      "name": "python"
    }
  },
  "cells": [
    {
      "cell_type": "code",
      "source": [
        "import random\n",
        "from numpy import exp as exp"
      ],
      "metadata": {
        "id": "3L9OlMsV155L"
      },
      "execution_count": null,
      "outputs": []
    },
    {
      "cell_type": "code",
      "source": [
        "from google.colab import drive\n",
        "drive.mount('/content/drive')"
      ],
      "metadata": {
        "colab": {
          "base_uri": "https://localhost:8080/"
        },
        "id": "XfnO3ooam8a6",
        "outputId": "7b64c115-deed-47ca-865d-b655098688d1"
      },
      "execution_count": null,
      "outputs": [
        {
          "output_type": "stream",
          "name": "stdout",
          "text": [
            "Drive already mounted at /content/drive; to attempt to forcibly remount, call drive.mount(\"/content/drive\", force_remount=True).\n"
          ]
        }
      ]
    },
    {
      "cell_type": "code",
      "source": [
        "learning_rate=0.000001\n",
        "epochs = 2000\n",
        "test_size=0.2"
      ],
      "metadata": {
        "id": "rL3VdLsD27Cp"
      },
      "execution_count": null,
      "outputs": []
    },
    {
      "cell_type": "code",
      "execution_count": null,
      "metadata": {
        "id": "fxUKHoC4ZBrS",
        "colab": {
          "base_uri": "https://localhost:8080/"
        },
        "outputId": "760a8fac-6983-4fc6-9465-e54e2dbc5c5c"
      },
      "outputs": [
        {
          "output_type": "stream",
          "name": "stdout",
          "text": [
            "569 31\n",
            "X_train dims: 31 x 456\n",
            "X_test dims: 31 x 113\n",
            "y_train dims: 1 x 456\n",
            "y_test dims: 1 x 113\n"
          ]
        }
      ],
      "source": [
        "with open('/content/drive/MyDrive/Colab Notebooks/bi_class_logistic_regression.txt', 'r') as file:\n",
        "  lines = [line.strip().split(',') for line in file]\n",
        "y = [1 if row[1] == 'M' else 0 for row in lines]\n",
        "X = [[float(num) for num in row[2:]] for row in lines]\n",
        "for i in range(len(X)):\n",
        "  X[i].append(1)\n",
        "def transpose(matrix):\n",
        "    return [[matrix[i][j] for i in range(len(matrix))] for j in range(len(matrix[0]))]\n",
        "print(len(X),len(X[0]))\n",
        "\n",
        "\n",
        "test_indexes = random.sample(range(len(y)), int(test_size * len(y)))\n",
        "X_test = transpose([X[i] for i in test_indexes])\n",
        "X_train = transpose([X[i] for i in range(len(X)) if i not in test_indexes])\n",
        "y_test = [[y[i] for i in test_indexes]]\n",
        "y_train = [[y[i] for i in range(len(y)) if i not in test_indexes]]\n",
        "\n",
        "print(f\"X_train dims: {len(X_train)} x {len(X_train[0])}\")\n",
        "print(f\"X_test dims: {len(X_test)} x {len(X_test[0])}\")\n",
        "print(f\"y_train dims: {len(y_train)} x {len(y_train[0])}\")\n",
        "print(f\"y_test dims: {len(y_test)} x {len(y_test[0])}\")"
      ]
    },
    {
      "cell_type": "code",
      "source": [
        "class logisticRegression:\n",
        "\n",
        "  def __init__(self, X):\n",
        "    self.theta = [[random.uniform(-1, 1)] for _ in range(len(X))]\n",
        "  def transpose(self,mat):\n",
        "    return [[mat[i][j] for i in range(len(mat))] for j in range(len(mat[0]))]\n",
        "\n",
        "  def matmul(self, A, B):\n",
        "    rows_A = len(A)\n",
        "    cols_A = len(A[0]) if A else 0\n",
        "    rows_B = len(B)\n",
        "    cols_B = len(B[0]) if B else 0\n",
        "    if cols_A != rows_B:\n",
        "      raise ValueError(f\"Incompatible dimensions for matrix multiplication: A({rows_A}, {cols_A}) and B({rows_B}, {cols_B})\")\n",
        "    return [[sum(A[i][k] * B[k][j] for k in range(len(A[0]))) for j in range(len(B[0]))] for i in range(len(A))]\n",
        "\n",
        "  def g(self, x): #sigmoid\n",
        "    return 1/(1+exp(-x))\n",
        "\n",
        "  def elwise(self, A, B, operator):\n",
        "    if operator == \"m+m\":\n",
        "      C = []\n",
        "      for i in range(len(A)):\n",
        "        row = []\n",
        "        for j in range(len(A[0])):\n",
        "          row.append(A[i][j] + B[i][j])\n",
        "        C.append(row)\n",
        "    elif operator == \"sum\":\n",
        "      C = 0\n",
        "      for i in range(len(A)):\n",
        "        row = 0\n",
        "        for j in range(len(A[0])):\n",
        "          row +=A[i][j]\n",
        "        C+=row\n",
        "    elif operator == \"s*m\":\n",
        "      C = []\n",
        "      for i in range(len(B)):\n",
        "        row = []\n",
        "        for j in range(len(B[0])):\n",
        "          row.append(A*B[i][j])\n",
        "        C.append(row)\n",
        "    return C\n",
        "\n",
        "  def hypothesis(self, X):\n",
        "    result = self.matmul(self.transpose(self.theta),X)\n",
        "    for i in range(len(result)):\n",
        "        for j in range(len(result[0])):\n",
        "            result[i][j] = self.g(result[i][j])\n",
        "    return result\n",
        "\n",
        "  def predict(self, X):\n",
        "    return [1 if p >= 0.5 else 0 for p in self.hypothesis(X)[0]]\n",
        "\n",
        "  def accuracy(self, X, y):\n",
        "    predictions = self.predict(X)\n",
        "    correct=0\n",
        "    for i in range(len(predictions)):\n",
        "      if predictions[i] == y[0][i]:\n",
        "        correct+=1\n",
        "    accuracy = correct / len(predictions)\n",
        "    return accuracy\n",
        "\n",
        "  def step(self, alpha, X, y):\n",
        "    predictions = self.elwise(-1,self.hypothesis(X),\"s*m\")\n",
        "    error = self.elwise(y, predictions,\"m+m\")\n",
        "    gradient = self.matmul(X, self.transpose(error))\n",
        "    self.theta = self.elwise(self.theta, self.elwise(alpha, gradient, \"s*m\"),\"m+m\")\n",
        "\n",
        "  def train(self, X, y, lr, epochs):\n",
        "    for epoch in range(epochs):\n",
        "      self.step(lr, X, y)\n",
        "      # if epoch % 100 == 0:\n",
        "      #   print('epoch:',epoch)\n",
        "    print(\"accuracy of training data:\",self.accuracy(X_train, y_train))\n",
        "    print(\"accuracy of test data:\",self.accuracy(X_test, y_test))\n",
        "logReg = logisticRegression(X_train)"
      ],
      "metadata": {
        "id": "Ws1rOOD32yX2"
      },
      "execution_count": null,
      "outputs": []
    },
    {
      "cell_type": "code",
      "source": [
        "logReg.train(X_train, y_train, learning_rate, epochs)"
      ],
      "metadata": {
        "id": "e-MzAi4W7YjO",
        "colab": {
          "base_uri": "https://localhost:8080/"
        },
        "outputId": "fd4166a3-3c58-4f83-c1d7-9320127b9155"
      },
      "execution_count": null,
      "outputs": [
        {
          "output_type": "stream",
          "name": "stderr",
          "text": [
            "<ipython-input-5-3f1b8c4be185>:18: RuntimeWarning: overflow encountered in exp\n",
            "  return 1/(1+exp(-x))\n"
          ]
        },
        {
          "output_type": "stream",
          "name": "stdout",
          "text": [
            "accuracy of training data: 0.9078947368421053\n",
            "accuracy of test data: 0.8938053097345132\n"
          ]
        }
      ]
    }
  ]
}