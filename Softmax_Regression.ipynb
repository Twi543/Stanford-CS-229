{
  "cells": [
    {
      "cell_type": "code",
      "execution_count": null,
      "metadata": {
        "id": "3L9OlMsV155L"
      },
      "outputs": [],
      "source": [
        "import random\n",
        "from numpy import exp as exp"
      ]
    },
    {
      "cell_type": "code",
      "execution_count": null,
      "metadata": {
        "colab": {
          "base_uri": "https://localhost:8080/"
        },
        "id": "XfnO3ooam8a6",
        "outputId": "ba34d39a-4e2c-4641-cb8b-a8e7b781786f"
      },
      "outputs": [
        {
          "output_type": "stream",
          "name": "stdout",
          "text": [
            "Drive already mounted at /content/drive; to attempt to forcibly remount, call drive.mount(\"/content/drive\", force_remount=True).\n"
          ]
        }
      ],
      "source": [
        "from google.colab import drive\n",
        "drive.mount('/content/drive')"
      ]
    },
    {
      "cell_type": "code",
      "execution_count": null,
      "metadata": {
        "id": "rL3VdLsD27Cp"
      },
      "outputs": [],
      "source": [
        "learning_rate=0.000001\n",
        "epochs=100\n",
        "batch_size=100"
      ]
    },
    {
      "cell_type": "code",
      "execution_count": null,
      "metadata": {
        "id": "dcYjrHuV3YZg"
      },
      "outputs": [],
      "source": [
        "def transpose(matrix):\n",
        "  return [[matrix[i][j] for i in range(len(matrix))] for j in range(len(matrix[0]))]\n",
        "def shape(matrix):\n",
        "  return len(matrix), len(matrix[0])"
      ]
    },
    {
      "cell_type": "code",
      "execution_count": null,
      "metadata": {
        "id": "WgjC7DJ7350u"
      },
      "outputs": [],
      "source": [
        "#runtime:13-20s\n",
        "with open('/content/drive/MyDrive/Colab Notebooks/MNIST_train.txt', 'r') as file:\n",
        "  lines = [line.strip().split(',') for line in file]\n",
        "y_train = [[0] * 60000 for _ in range(10)]\n",
        "for i, row in enumerate(lines):\n",
        "    label = int(row[0])\n",
        "    y_train[label][i] = 1\n",
        "X_train = [[float(num) for num in row[1:]] for row in lines]"
      ]
    },
    {
      "cell_type": "code",
      "execution_count": null,
      "metadata": {
        "id": "fxUKHoC4ZBrS"
      },
      "outputs": [],
      "source": [
        "#runtime:4-2s\n",
        "with open('/content/drive/MyDrive/Colab Notebooks/MNIST_test.txt', 'r') as file:\n",
        "  lines = [line.strip().split(',') for line in file]\n",
        "y_test = [[0] * 10000 for _ in range(10)]\n",
        "for i, row in enumerate(lines):\n",
        "    label = int(row[0])\n",
        "    y_test[label][i] = 1\n",
        "X_test = [[float(num) for num in row[1:]] for row in lines]"
      ]
    },
    {
      "cell_type": "code",
      "execution_count": null,
      "metadata": {
        "id": "eYQ9PsFG4SwV"
      },
      "outputs": [],
      "source": [
        "#runtime:26s\n",
        "X_train, X_test = map(transpose, [X_train, X_test])"
      ]
    },
    {
      "cell_type": "code",
      "execution_count": null,
      "metadata": {
        "colab": {
          "base_uri": "https://localhost:8080/"
        },
        "id": "ePZNnSAX38bJ",
        "outputId": "1d47c83d-8a66-4374-96c3-86a36618aadb"
      },
      "outputs": [
        {
          "output_type": "stream",
          "name": "stdout",
          "text": [
            "X_train dims: (784, 60000)\n",
            "X_test dims: (784, 10000)\n",
            "y_train dims: (10, 60000)\n",
            "y_test dims: (10, 10000)\n"
          ]
        }
      ],
      "source": [
        "print(f\"X_train dims: {shape(X_train)}\")\n",
        "print(f\"X_test dims: {shape(X_test)}\")\n",
        "print(f\"y_train dims: {shape(y_train)}\")\n",
        "print(f\"y_test dims: {shape(y_test)}\")"
      ]
    },
    {
      "cell_type": "code",
      "execution_count": null,
      "metadata": {
        "id": "Ws1rOOD32yX2"
      },
      "outputs": [],
      "source": [
        "class logisticRegression:\n",
        "\n",
        "  def __init__(self, X):\n",
        "    self.theta = [[random.uniform(-1, 1) for _ in range(10)] for _ in range(len(X))]\n",
        "  def transpose(self,mat):\n",
        "    return [[mat[i][j] for i in range(len(mat))] for j in range(len(mat[0]))]\n",
        "\n",
        "  def matmul(self, A, B):\n",
        "    rows_A = len(A)\n",
        "    cols_A = len(A[0]) if A else 0\n",
        "    rows_B = len(B)\n",
        "    cols_B = len(B[0]) if B else 0\n",
        "    if cols_A != rows_B:\n",
        "      raise ValueError(f\"Incompatible dimensions for matrix multiplication: A({rows_A}, {cols_A}) and B({rows_B}, {cols_B})\")\n",
        "    return [[sum(A[i][k] * B[k][j] for k in range(len(A[0]))) for j in range(len(B[0]))] for i in range(len(A))]\n",
        "\n",
        "  def softmax(self, x):\n",
        "      max_x = max(x)\n",
        "      exp_x = [exp(i - max_x) for i in x]\n",
        "      sum_exp_x = sum(exp_x)\n",
        "      return [float(i / sum_exp_x) for i in exp_x]\n",
        "\n",
        "  def elwise(self, A, B, operator):\n",
        "    if operator == \"m+m\":\n",
        "      C = []\n",
        "      for i in range(len(A)):\n",
        "        row = []\n",
        "        for j in range(len(A[0])):\n",
        "          row.append(A[i][j] + B[i][j])\n",
        "        C.append(row)\n",
        "    elif operator == \"sum\":\n",
        "      C = 0\n",
        "      for i in range(len(A)):\n",
        "        row = 0\n",
        "        for j in range(len(A[0])):\n",
        "          row +=A[i][j]\n",
        "        C+=row\n",
        "    elif operator == \"s*m\":\n",
        "      C = []\n",
        "      for i in range(len(B)):\n",
        "        row = []\n",
        "        for j in range(len(B[0])):\n",
        "          row.append(A*B[i][j])\n",
        "        C.append(row)\n",
        "    return C\n",
        "\n",
        "  def batch(self, X, y, n):\n",
        "    if n > len(X[0]):\n",
        "      n = len(X[0])\n",
        "    selected_indexes = random.sample(range(len(X[0])), n)\n",
        "    X_batch = [[X[row][col] for col in selected_indexes] for row in range(len(X))]\n",
        "    y_batch = [[y[row][col] for col in selected_indexes] for row in range(len(y))]\n",
        "    return X_batch, y_batch\n",
        "\n",
        "  def hypothesis(self, X):\n",
        "    result = self.matmul(self.transpose(self.theta),X)\n",
        "    for j in range(len(result[0])):\n",
        "        column = [result[i][j] for i in range(len(result))]\n",
        "        softmax_column = self.softmax(column)\n",
        "        for i in range(len(result)):\n",
        "            result[i][j] = softmax_column[i]\n",
        "    return result\n",
        "\n",
        "  def predict(self, X):\n",
        "    sm = self.hypothesis(X)\n",
        "    predictions = []\n",
        "    for i in range(len(sm[0])):\n",
        "        max_index = 0\n",
        "        max_value = sm[0][i]\n",
        "        for j in range(1, len(sm)):\n",
        "            if sm[j][i] > max_value:\n",
        "                max_value = sm[j][i]\n",
        "                max_index = j\n",
        "        predictions.append(max_index)\n",
        "    return predictions\n",
        "\n",
        "  def accuracy(self, X, y):\n",
        "    predictions = self.predict(X)\n",
        "    correct=0\n",
        "    for i in range(len(predictions)):\n",
        "      if y[predictions[i]][i] == 1:\n",
        "        correct+=1\n",
        "    accuracy = correct / len(predictions)\n",
        "    return correct,accuracy\n",
        "\n",
        "  def step(self, alpha, X, y):\n",
        "    X_batch, y_batch = self.batch(X, y, batch_size)\n",
        "    predictions = self.elwise(-1,self.hypothesis(X_batch),\"s*m\")\n",
        "    error = self.elwise(y_batch, predictions,\"m+m\")\n",
        "    gradient = self.matmul(X_batch, self.transpose(error))\n",
        "    self.theta = self.elwise(self.theta, self.elwise(alpha, gradient, \"s*m\"),\"m+m\")\n",
        "\n",
        "  def train(self, X, y, lr, epochs):\n",
        "    global X_train, y_train, X_test, y_test\n",
        "    X_train_batch, y_train_batch = self.batch(X_train, y_train, 1000)\n",
        "    X_test_batch, y_test_batch = self.batch(X_test, y_test, 1000)\n",
        "    print(\"accuracy of training data:\",self.accuracy(X_train_batch, y_train_batch))\n",
        "    print(\"accuracy of test data:\",self.accuracy(X_test_batch, y_test))\n",
        "    for epoch in range(epochs):\n",
        "      self.step(lr, X, y)\n",
        "      if epoch % 50 == 0:\n",
        "        print('epoch:',epoch)\n",
        "    X_train_batch, y_train_batch = self.batch(X_train, y_train, 10000)\n",
        "    X_test_batch, y_test_batch = self.batch(X_test, y_test, 10000)\n",
        "    print(\"accuracy of training data:\",self.accuracy(X_train_batch, y_train_batch))\n",
        "    print(\"accuracy of test data:\",self.accuracy(X_test_batch, y_test_batch))\n",
        "logReg = logisticRegression(X_train)"
      ]
    },
    {
      "cell_type": "code",
      "execution_count": null,
      "metadata": {
        "colab": {
          "base_uri": "https://localhost:8080/"
        },
        "id": "e-MzAi4W7YjO",
        "outputId": "80ab911e-3537-4226-fd64-fcfa46d685b8"
      },
      "outputs": [
        {
          "output_type": "stream",
          "name": "stdout",
          "text": [
            "accuracy of training data: (90, 0.09)\n",
            "accuracy of test data: (84, 0.084)\n",
            "epoch: 0\n",
            "epoch: 50\n",
            "accuracy of training data: (2129, 0.2129)\n",
            "accuracy of test data: (2150, 0.215)\n"
          ]
        }
      ],
      "source": [
        "logReg.train(X_train, y_train, learning_rate, epochs) #1 hour for 10k epochs and 100 batch size"
      ]
    }
  ],
  "metadata": {
    "colab": {
      "provenance": []
    },
    "kernelspec": {
      "display_name": "Python 3",
      "name": "python3"
    },
    "language_info": {
      "name": "python"
    }
  },
  "nbformat": 4,
  "nbformat_minor": 0
}